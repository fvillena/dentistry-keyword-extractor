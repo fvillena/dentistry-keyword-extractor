{
 "cells": [
  {
   "cell_type": "code",
   "execution_count": 1,
   "metadata": {},
   "outputs": [],
   "source": [
    "import utils # loading the necessary functions"
   ]
  },
  {
   "cell_type": "code",
   "execution_count": 2,
   "metadata": {},
   "outputs": [
    {
     "name": "stdout",
     "output_type": "stream",
     "text": [
      "   keyword\tweight\n",
      "1. hipertensión\t0.31\n",
      "2. diabetes\t0.30\n",
      "3. desdentado\t0.23\n",
      "4. parcial\t0.19\n",
      "5. superior\t0.18\n",
      "6. antecedentes\t0.16\n",
      "7. posibilidad\t0.14\n",
      "8. solicito\t0.14\n",
      "9. evaluación\t0.12\n",
      "10. tratamiento\t0.10\n",
      "11. paciente\t0.09\n"
     ]
    }
   ],
   "source": [
    "text = \"\"\"\n",
    "Solicito evaluación y posibilidad de tratamiento para para paciente desdentado parcial superior con\n",
    "antecedentes de hipertensión arterial y diabetes.\n",
    "\"\"\"\n",
    "utils.print_keywords(text)"
   ]
  }
 ],
 "metadata": {
  "kernelspec": {
   "display_name": "Python 3",
   "language": "python",
   "name": "python3"
  },
  "language_info": {
   "codemirror_mode": {
    "name": "ipython",
    "version": 3
   },
   "file_extension": ".py",
   "mimetype": "text/x-python",
   "name": "python",
   "nbconvert_exporter": "python",
   "pygments_lexer": "ipython3",
   "version": "3.6.4"
  }
 },
 "nbformat": 4,
 "nbformat_minor": 2
}
